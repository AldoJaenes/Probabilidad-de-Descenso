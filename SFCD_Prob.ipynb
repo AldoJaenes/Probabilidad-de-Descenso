import itertools

teams = {
    "Linense": {"name": "Linense", "points": 41, "gf": 31, "ga": 34},
    "Sanse": {"name": "Sanse", "points": 43, "gf": 30, "ga": 44},
    "Fuenlabrada": {"name": "Fuenlabrada", "points": 43, "gf": 30, "ga": 50},
    "Badajoz": {"name": "Badajoz", "points": 43, "gf": 34, "ga": 49},
    "Rayo": {"name": "Rayo", "points": 44, "gf": 41, "ga": 50},
    "San Fernando": {"name": "San Fernando", "points": 44, "gf": 45, "ga": 49},
    "Ceuta": {"name": "Ceuta", "points": 44, "gf": 53, "ga": 52},
    "Algeciras": {"name": "Algeciras", "points": 44, "gf": 36, "ga": 46},
}

def compare_teams(team1, team2):
    if team1['gf'] - team1['ga'] > team2['gf'] - team2['ga']:
        return team1
    elif team1['gf'] - team1['ga'] < team2['gf'] - team2['ga']:
        return team2
    elif team1['gf'] > team2['gf']:
        return team1
    elif team1['gf'] < team2['gf']:
        return team2
    else:
        return None  

def calculate_scenarios():
    points_possibilities = [0, 1, 3]
    relegation_scenarios = {team: 0 for team in teams}
    total_scenarios = 0

    for points in itertools.product(points_possibilities, repeat=7):
        total_scenarios += 1
        tmp_teams = {team: teams[team].copy() for team in teams}
        tmp_teams["Linense"]["points"] += points[0]
        tmp_teams["Sanse"]["points"] += points[1]
        tmp_teams["Fuenlabrada"]["points"] += points[2]
        tmp_teams["Badajoz"]["points"] += points[3]
        tmp_teams["Rayo"]["points"] += points[4]
        tmp_teams["San Fernando"]["points"] += points[5]
        tmp_teams["Ceuta"]["points"] += points[6]
        
        sorted_teams = sorted(tmp_teams.values(), key=lambda x: x['points'])

        last_three = sorted_teams[:3]

        for i in range(3): 
            for j in range(i+1, 3):
                if last_three[i]['points'] == last_three[j]['points']:
                    if compare_teams(last_three[i], last_three[j]) == last_three[i]:
                        last_three[i], last_three[j] = last_three[j], last_three[i] 

        for team in last_three:
            relegation_scenarios[team['name']] += 1

    for team, count in relegation_scenarios.items():
        print(f"El {team} desciende en {count} de {total_scenarios} escenarios.")

calculate_scenarios()
