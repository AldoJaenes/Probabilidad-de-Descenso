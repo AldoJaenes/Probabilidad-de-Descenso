from itertools import product
import copy

# Información inicial de los equipos
teams = {
    "Linense": {"points": 41, "gf": 31, "ga": 34, "name": "Linense"},
    "Sanse": {"points": 43, "gf": 30, "ga": 44, "name": "Sanse"},
    "Fuenlabrada": {"points": 43, "gf": 30, "ga": 50, "name": "Fuenlabrada"},
    "Badajoz": {"points": 43, "gf": 34, "ga": 49, "name": "Badajoz"},
    "Rayo": {"points": 44, "gf": 53, "ga": 52, "name": "Rayo"},
    "San Fernando": {"points": 44, "gf": 45, "ga": 49, "name": "San Fernando"},
    "Ceuta": {"points": 44, "gf": 53, "ga": 52, "name": "Ceuta"},
    "Algeciras": {"points": 44, "gf": 31, "ga": 34, "name": "Algeciras"},
}

# Resultados de los partidos entre ellos
matches = {
    ("Algeciras", "Badajoz"): {"Algeciras": 1, "Badajoz": 1},
    ("Algeciras", "Ceuta"): {"Algeciras": 1, "Ceuta": 2},
    ("Algeciras", "Fuenlabrada"): {"Algeciras": 2, "Fuenlabrada": 1},
    ("Algeciras", "Linense"): {"Algeciras": 1, "Linense": 0},
    ("Algeciras", "Rayo"): {"Algeciras": 2, "Rayo": 1},
    ("Algeciras", "San Fernando"): {"Algeciras": 0, "San Fernando": 1},
    ("Algeciras", "Sanse"): {"Algeciras": 0, "Sanse": 2},
    ("Badajoz", "Algeciras"): {"Badajoz": 0, "Algeciras": 1},
    ("Badajoz", "Ceuta"): {"Badajoz": 2, "Ceuta": 1},
    ("Badajoz", "Fuenlabrada"): {"Badajoz": 3, "Fuenlabrada": 0},
    ("Badajoz", "Linense"): {"Badajoz": 0, "Linense": 2},
    ("Badajoz", "Rayo"): {"Badajoz": 0, "Rayo": 0},
    ("Badajoz", "San Fernando"): {"Badajoz": 1, "San Fernando": 1},
    ("Badajoz", "Sanse"): {"Badajoz": 0, "Sanse": 0},
    ("Ceuta", "Algeciras"): {"Ceuta": 1, "Algeciras": 3},
    ("Ceuta", "Badajoz"): {"Ceuta": 3, "Badajoz": 0},
    ("Ceuta", "Fuenlabrada"): {"Ceuta": 1, "Fuenlabrada": 0},
    ("Ceuta", "Linense"): {"Ceuta": 1, "Linense": 1},
    ("Ceuta", "Rayo"): {"Ceuta": 1, "Rayo": 2},
    ("Ceuta", "San Fernando"): {"Ceuta": 0, "San Fernando": 0},
    ("Ceuta", "Sanse"): {"Ceuta": 2, "Sanse": 1},
    ("Fuenlabrada", "Algeciras"): {"Fuenlabrada": 0, "Algeciras": 2},
    ("Fuenlabrada", "Badajoz"): {"Fuenlabrada": 1, "Badajoz": 2},
    ("Fuenlabrada", "Ceuta"): {"Fuenlabrada": 1, "Ceuta": 1},
    ("Fuenlabrada", "Linense"): {"Fuenlabrada": 2, "Linense": 1},
    ("Fuenlabrada", "Rayo"): {"Fuenlabrada": 0, "Rayo": 1},
    ("Fuenlabrada", "San Fernando"): {"Fuenlabrada": 2, "San Fernando": 2},
    ("Fuenlabrada", "Sanse"): {"Fuenlabrada": 0, "Sanse": 1},
    ("Linense", "Algeciras"): {"Linense": 2, "Algeciras": 0},
    ("Linense", "Badajoz"): {"Linense": 0, "Badajoz": 0},
    ("Linense", "Ceuta"): {"Linense": 2, "Ceuta": 1},
    ("Linense", "Fuenlabrada"): {"Linense": 1, "Fuenlabrada": 1},
    ("Linense", "Rayo"): {"Linense": 0, "Rayo": 0},
    ("Linense", "San Fernando"): {"Linense": 1, "San Fernando": 2},
    ("Linense", "Sanse"): {"Linense": 0, "Sanse": 1},
    ("Rayo", "Algeciras"): {"Rayo": 2, "Algeciras": 1},
    ("Rayo", "Badajoz"): {"Rayo": 0, "Badajoz": 1},
    ("Rayo", "Ceuta"): {"Rayo": 2, "Ceuta": 1},
    ("Rayo", "Fuenlabrada"): {"Rayo": 1, "Fuenlabrada": 0},
    ("Rayo", "Linense"): {"Rayo": 2, "Linense": 1},
    ("Rayo", "San Fernando"): {"Rayo": 2, "San Fernando": 1},
    ("Rayo", "Sanse"): {"Rayo": 1, "Sanse": 1},
    ("San Fernando", "Algeciras"): {"San Fernando": 1, "Algeciras": 1},
    ("San Fernando", "Badajoz"): {"San Fernando": 1, "Badajoz": 2},
    ("San Fernando", "Ceuta"): {"San Fernando": 1, "Ceuta": 2},
    ("San Fernando", "Fuenlabrada"): {"San Fernando": 2, "Fuenlabrada": 1},
    ("San Fernando", "Linense"): {"San Fernando": 1, "Linense": 0},
    ("San Fernando", "Rayo"): {"San Fernando": 1, "Rayo": 0},
    ("San Fernando", "Sanse"): {"San Fernando": 1, "Sanse": 0},
    ("Sanse", "Algeciras"): {"Sanse": 1, "Algeciras": 2},
    ("Sanse", "Badajoz"): {"Sanse": 1, "Badajoz": 1},
    ("Sanse", "Ceuta"): {"Sanse": 1, "Ceuta": 1},
    ("Sanse", "Fuenlabrada"): {"Sanse": 1, "Fuenlabrada": 0},
    ("Sanse", "Linense"): {"Sanse": 0, "Linense": 1},
    ("Sanse", "Rayo"): {"Sanse": 1, "Rayo": 2},
    ("Sanse", "San Fernando"): {"Sanse": 1, "San Fernando": 0}
}

def compare_teams(team1, team2):
    # criterio 1: Mayor diferencia de goles entre los anotados y recibidos en los partidos disputados entre ellos
    match_result = matches[(team1['name'], team2['name'])] if (team1['name'], team2['name']) in matches else matches[(team2['name'], team1['name'])]
    if match_result[team1['name']] - match_result[team2['name']] > 0:
        return team1
    elif match_result[team1['name']] - match_result[team2['name']] < 0:
        return team2

    # criterio 2: Mayor diferencia de goles entre los anotados y recibidos en el cómputo general de la competición
    if team1['gf'] - team1['ga'] > team2['gf'] - team2['ga']:
        return team1
    elif team1['gf'] - team1['ga'] < team2['gf'] - team2['ga']:
        return team2

    # criterio 3: El que hubiera conseguido el mayor número de goles a favor
    if team1['gf'] > team2['gf']:
        return team1
    elif team1['gf'] < team2['gf']:
        return team2

    # si aún no se ha decidido, los equipos son iguales en términos de criterios de desempate
    return None

def calculate_scenarios():
    total_scenarios = 0
    algeciras_relegation_scenarios = 0
    badajoz_relegation_scenarios = 0
    ceuta_relegation_scenarios = 0
    fuenlabrada_relegation_scenarios = 0
    linense_relegation_scenarios = 0
    rayo_relegation_scenarios = 0
    san_fernando_relegation_scenarios = 0
    sanse_relegation_scenarios = 0

    for points in product((0, 1, 3), repeat=8):
        total_scenarios += 1
        tmp_teams = copy.deepcopy(teams)

        tmp_teams["Algeciras"]["points"] += points[0]
        tmp_teams["Badajoz"]["points"] += points[1]
        tmp_teams["Ceuta"]["points"] += points[2]
        tmp_teams["Fuenlabrada"]["points"] += points[3]
        tmp_teams["Linense"]["points"] += points[4]
        tmp_teams["Rayo"]["points"] += points[5]
        tmp_teams["San Fernando"]["points"] += points[6]
        tmp_teams["Sanse"]["points"] += points[7]

        sorted_teams = sorted(tmp_teams.values(), key=lambda x: (-x['points'], x['name']))

        if sorted_teams[0]['name'] == "Algeciras":
            algeciras_relegation_scenarios += 1
        if sorted_teams[0]['name'] == "Badajoz":
            badajoz_relegation_scenarios += 1
        if sorted_teams[0]['name'] == "Ceuta":
            ceuta_relegation_scenarios += 1
        if sorted_teams[0]['name'] == "Fuenlabrada":
            fuenlabrada_relegation_scenarios += 1
        if sorted_teams[0]['name'] == "Linense":
            linense_relegation_scenarios += 1
        if sorted_teams[0]['name'] == "Rayo":
            rayo_relegation_scenarios += 1
        if sorted_teams[0]['name'] == "San Fernando":
            san_fernando_relegation_scenarios += 1
        if sorted_teams[0]['name'] == "Sanse":
            sanse_relegation_scenarios += 1

    print("Escenarios de descenso:")
    print("Algeciras:", algeciras_relegation_scenarios)
    print("Badajoz:", badajoz_relegation_scenarios)
    print("Ceuta:", ceuta_relegation_scenarios)
    print("Fuenlabrada:", fuenlabrada_relegation_scenarios)
    print("Linense:", linense_relegation_scenarios)
    print("Rayo:", rayo_relegation_scenarios)
    print("San Fernando:", san_fernando_relegation_scenarios)
    print("Sanse:", sanse_relegation_scenarios)

calculate_scenarios()
